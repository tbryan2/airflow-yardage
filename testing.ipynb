{
 "cells": [
  {
   "cell_type": "code",
   "execution_count": 2,
   "metadata": {},
   "outputs": [
    {
     "name": "stdout",
     "output_type": "stream",
     "text": [
      "Collecting emails\n",
      "  Using cached emails-0.6-py2.py3-none-any.whl (56 kB)\n",
      "Requirement already satisfied: lxml in /Users/timothybryan/opt/anaconda3/lib/python3.9/site-packages (from emails) (4.6.3)\n",
      "Requirement already satisfied: python-dateutil in /Users/timothybryan/opt/anaconda3/lib/python3.9/site-packages (from emails) (2.8.2)\n",
      "Requirement already satisfied: requests in /Users/timothybryan/opt/anaconda3/lib/python3.9/site-packages (from emails) (2.28.2)\n",
      "Collecting premailer\n",
      "  Using cached premailer-3.10.0-py2.py3-none-any.whl (19 kB)\n",
      "Collecting cssutils\n",
      "  Using cached cssutils-2.7.1-py3-none-any.whl (399 kB)\n",
      "Requirement already satisfied: chardet in /Users/timothybryan/opt/anaconda3/lib/python3.9/site-packages (from emails) (3.0.4)\n",
      "Requirement already satisfied: cssselect in /Users/timothybryan/opt/anaconda3/lib/python3.9/site-packages (from premailer->emails) (1.2.0)\n",
      "Requirement already satisfied: cachetools in /Users/timothybryan/opt/anaconda3/lib/python3.9/site-packages (from premailer->emails) (5.2.0)\n",
      "Requirement already satisfied: six>=1.5 in /Users/timothybryan/opt/anaconda3/lib/python3.9/site-packages (from python-dateutil->emails) (1.12.0)\n",
      "Requirement already satisfied: urllib3<1.27,>=1.21.1 in /Users/timothybryan/opt/anaconda3/lib/python3.9/site-packages (from requests->emails) (1.26.15)\n",
      "Requirement already satisfied: idna<4,>=2.5 in /Users/timothybryan/opt/anaconda3/lib/python3.9/site-packages (from requests->emails) (2.8)\n",
      "Requirement already satisfied: charset-normalizer<4,>=2 in /Users/timothybryan/opt/anaconda3/lib/python3.9/site-packages (from requests->emails) (2.0.4)\n",
      "Requirement already satisfied: certifi>=2017.4.17 in /Users/timothybryan/opt/anaconda3/lib/python3.9/site-packages (from requests->emails) (2021.10.8)\n",
      "Installing collected packages: cssutils, premailer, emails\n",
      "Successfully installed cssutils-2.7.1 emails-0.6 premailer-3.10.0\n"
     ]
    }
   ],
   "source": [
    "!pip install emails"
   ]
  },
  {
   "cell_type": "code",
   "execution_count": 3,
   "metadata": {},
   "outputs": [],
   "source": [
    "import emails"
   ]
  },
  {
   "cell_type": "code",
   "execution_count": null,
   "metadata": {},
   "outputs": [],
   "source": [
    "\n"
   ]
  }
 ],
 "metadata": {
  "kernelspec": {
   "display_name": "base",
   "language": "python",
   "name": "python3"
  },
  "language_info": {
   "codemirror_mode": {
    "name": "ipython",
    "version": 3
   },
   "file_extension": ".py",
   "mimetype": "text/x-python",
   "name": "python",
   "nbconvert_exporter": "python",
   "pygments_lexer": "ipython3",
   "version": "3.9.7"
  },
  "orig_nbformat": 4
 },
 "nbformat": 4,
 "nbformat_minor": 2
}
